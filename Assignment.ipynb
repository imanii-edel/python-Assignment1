{
  "nbformat": 4,
  "nbformat_minor": 0,
  "metadata": {
    "colab": {
      "provenance": [],
      "include_colab_link": true
    },
    "kernelspec": {
      "name": "python3",
      "display_name": "Python 3"
    },
    "language_info": {
      "name": "python"
    }
  },
  "cells": [
    {
      "cell_type": "markdown",
      "metadata": {
        "id": "view-in-github",
        "colab_type": "text"
      },
      "source": [
        "<a href=\"https://colab.research.google.com/github/imanii-edel/python-Assignment1/blob/main/Assignment.ipynb\" target=\"_parent\"><img src=\"https://colab.research.google.com/assets/colab-badge.svg\" alt=\"Open In Colab\"/></a>"
      ]
    },
    {
      "cell_type": "markdown",
      "source": [
        "# Edel Faith\n",
        "## ENG-219-075/2023\n",
        "### Assignment"
      ],
      "metadata": {
        "id": "juEzqvtNoW3v"
      }
    },
    {
      "cell_type": "markdown",
      "source": [
        "## Exercise 02.1 (if-else)\n",
        "\n",
        "Consider the following assessment criteria which map a score out of 100 to an\n",
        "assessment grade:\n",
        "\n",
        "| Grade            | Raw score  (/100)      |\n",
        "| ---------------- | ---------------------- |\n",
        "| Excellent        | $\\ge 85$               |\n",
        "| Very good        | $\\ge 76.5$ and $< 85$  |\n",
        "| Good             | $\\ge 64$ and $< 76.5$  |\n",
        "| Need improvement | $\\ge 40$ and $< 64$    |\n",
        "| Did you try?     | $< 40$                 |\n",
        "\n",
        "Write a program that, given an a score, prints the appropriate grade. Print an error message if the input score is greater than 100 or less than zero."
      ],
      "metadata": {
        "id": "5h5bHmX_o8v0"
      }
    },
    {
      "cell_type": "code",
      "source": [
        "def mark (score):\n",
        "  if score > 100 or score < 0:\n",
        "    print(\"Invalid score\")\n",
        "  elif score >= 85:\n",
        "    print(\"Excellent\")\n",
        "  elif score >= 76.5:\n",
        "    print(\"Very good\")\n",
        "  elif score >= 64:\n",
        "    print(\"Good\")\n",
        "  elif score >= 40:\n",
        "    print(\"Need improvement\")\n",
        "  else:\n",
        "    print(\"Did you try?\")\n",
        "\n",
        "\n",
        "score = 72\n",
        "mark(score)\n",
        "print(score)"
      ],
      "metadata": {
        "colab": {
          "base_uri": "https://localhost:8080/"
        },
        "id": "uZyI6b9spKYt",
        "outputId": "088471fd-d0c9-4f80-f30f-71358d44f74b"
      },
      "execution_count": null,
      "outputs": [
        {
          "output_type": "stream",
          "name": "stdout",
          "text": [
            "Good\n",
            "72\n"
          ]
        }
      ]
    },
    {
      "cell_type": "code",
      "source": [],
      "metadata": {
        "id": "gas8AObmqv__"
      },
      "execution_count": null,
      "outputs": []
    },
    {
      "cell_type": "markdown",
      "source": [
        "## Exercise 02.2 (bisection)\n",
        "\n",
        "Bisection is an iterative method for finding approximate roots of a function. Say we know that the function $f(x)$ has one root between $x_{0}$ and $x_{1}$ ($x_{0} < x_{1}$). We then:\n",
        "\n",
        "- Evaluate $f$ at the midpoint $x_{\\rm mid} = (x_0 + x_1)/2$, i.e. compute\n",
        "   $f_{\\rm mid} = f(x_{\\rm mid})$\n",
        "- Evaluate $f(x_0) \\cdot f(x_{\\rm mid})$\n",
        "\n",
        "  - if $f(x_0) \\cdot f(x_{\\rm mid}) < 0$:\n",
        "\n",
        "    $f$ must change sign somewhere between $x_0$ and $x_{\\rm mid}$, hence the root must lie between\n",
        "    $x_0$ and $x_{\\rm mid}$, so set $x_1 = x_{\\rm mid}$.\n",
        "   \n",
        "  - else:\n",
        "\n",
        "    $f$ must change sign somewhere between $x_{\\rm mid}$ and $x_1$, so set\n",
        "    $x_0 = x_{\\rm mid}$.\n",
        "\n",
        "The above steps can be repeated a specified number of times, or until $|f_{\\rm mid}|$\n",
        "is below a tolerance, with $x_{\\rm mid}$ being the approximate root.\n",
        "\n",
        "\n",
        "### Task\n",
        "\n",
        "The function\n",
        "\n",
        "$$\n",
        "f(x) = \\frac{x^{5}}{10} + x^3 - 10x^2 + 4x + 7\n",
        "$$\n",
        "\n",
        "\n",
        "has one root in the range $0 < x < 2$.\n",
        "\n",
        "1. Use the bisection method to find an approximate root $x_{r}$ using 20 iterations\n",
        "   (use a `for` loop)."
      ],
      "metadata": {
        "id": "W2Gj3z12qzYG"
      }
    },
    {
      "cell_type": "code",
      "source": [
        "# Initial end points\n",
        "x0 = 0.0\n",
        "x1 = 2.0\n",
        "\n",
        "# Use 20 iterations\n",
        "for n in range(20):\n",
        "    # Compute midpoint\n",
        "    x_mid = (x0 + x1) / 2\n",
        "\n",
        "    # Evaluate function at (i) left end-point and at (ii) midpoint\n",
        "    f0 = (x0**5) / 10 + x0**3 - 10 * x0**2 + 4 * x0 + 7\n",
        "    f_mid = (x_mid**5) / 10 + x_mid**3 - 10 * x_mid**2 + 4 * x_mid + 7\n",
        "\n",
        "    # Update the interval\n",
        "    if f0 * f_mid < 0:\n",
        "        x1 = x_mid\n",
        "    else:\n",
        "        x0 = x_mid\n",
        "\n",
        "    print(n, x_mid, f_mid)\n",
        "\n",
        "## tests ##\n",
        "import math\n",
        "assert math.isclose(x_mid, 1.1568355560302734)\n",
        "assert abs(f_mid) < 1e-5"
      ],
      "metadata": {
        "colab": {
          "base_uri": "https://localhost:8080/"
        },
        "id": "Irre8I10rDbf",
        "outputId": "012b3895-187a-47d9-8aee-1608189e4847"
      },
      "execution_count": null,
      "outputs": [
        {
          "output_type": "stream",
          "name": "stdout",
          "text": [
            "0 1.0 2.0999999999999996\n",
            "1 1.5 -5.365625000000001\n",
            "2 1.25 -1.36669921875\n",
            "3 1.125 0.4477813720703132\n",
            "4 1.1875 -0.4408627510070797\n",
            "5 1.15625 0.008327355980872753\n",
            "6 1.171875 -0.21507753478363156\n",
            "7 1.1640625 -0.1030741602036862\n",
            "8 1.16015625 -0.04729774910292761\n",
            "9 1.158203125 -0.019466230897839054\n",
            "10 1.1572265625 -0.005564689502373099\n",
            "11 1.15673828125 0.0013825210451265946\n",
            "12 1.156982421875 -0.0020907873792292975\n",
            "13 1.1568603515625 -0.00035405894194262544\n",
            "14 1.15679931640625 0.0005142496094645566\n",
            "15 1.156829833984375 8.009997302949046e-05\n",
            "16 1.1568450927734375 -0.00013697832466341708\n",
            "17 1.1568374633789062 -2.8438885864900953e-05\n",
            "18 1.1568336486816406 2.5830616070976475e-05\n",
            "19 1.1568355560302734 -1.304116775457942e-06\n"
          ]
        }
      ]
    },
    {
      "cell_type": "code",
      "source": [],
      "metadata": {
        "id": "yyAATrUar3k1"
      },
      "execution_count": null,
      "outputs": []
    },
    {
      "cell_type": "markdown",
      "source": [
        "2. Use the bisection method to find an approximate root $x_{r}$ such that\n",
        "   $\\left| f(x_{r}) \\right| < 1 \\times 10^{-6}$ and report the number of iterations\n",
        "   required (use a `while` loop).\n",
        "\n",
        "\n",
        "---\n",
        "\n",
        "#### (2) Using a `while` loop\n",
        "\n",
        "Use the variable `counter` for the iteration number."
      ],
      "metadata": {
        "id": "hRr-u_FUr9Sw"
      }
    },
    {
      "cell_type": "code",
      "source": [
        "# Initial end points\n",
        "x0 = 0.0\n",
        "x1 = 2.0\n",
        "\n",
        "tol = 1.0e-6\n",
        "error = tol + 1.0\n",
        "\n",
        "# Iterate until tolerance is met\n",
        "counter = 0\n",
        "while error > tol:\n",
        "    # Compute midpoint\n",
        "    x_mid = (x0 + x1) / 2\n",
        "\n",
        "    # Evaluate function at (i) left end-point and at (ii) midpoint\n",
        "    f0 = (x0**5) / 10 + x0**3 - 10 * x0**2 + 4 * x0 + 7\n",
        "    f = (x_mid**5) / 10 + x_mid**3 - 10 * x_mid**2 + 4 * x_mid + 7\n",
        "\n",
        "    # Update the interval\n",
        "    if f0 * f < 0:\n",
        "        x1 = x_mid\n",
        "    else:\n",
        "        x0 = x_mid\n",
        "\n",
        "    # Calculate the error (absolute value of f(x_mid))\n",
        "    error = abs(f)\n",
        "    counter += 1\n",
        "\n",
        "    # Guard against an infinite loop\n",
        "    if counter > 1000:\n",
        "        print(\"Oops, iteration count is very large. Breaking out of while loop.\")\n",
        "        break\n",
        "\n",
        "    print(counter, x_mid, error)\n",
        "\n",
        "## tests ##\n",
        "assert counter == 24\n",
        "assert abs(f) < 1.0e-6"
      ],
      "metadata": {
        "colab": {
          "base_uri": "https://localhost:8080/"
        },
        "id": "hZwiv6zVsSPe",
        "outputId": "07ac9f55-ee0c-4fa2-fa55-87809f867442"
      },
      "execution_count": null,
      "outputs": [
        {
          "output_type": "stream",
          "name": "stdout",
          "text": [
            "1 1.0 2.0999999999999996\n",
            "2 1.5 5.365625000000001\n",
            "3 1.25 1.36669921875\n",
            "4 1.125 0.4477813720703132\n",
            "5 1.1875 0.4408627510070797\n",
            "6 1.15625 0.008327355980872753\n",
            "7 1.171875 0.21507753478363156\n",
            "8 1.1640625 0.1030741602036862\n",
            "9 1.16015625 0.04729774910292761\n",
            "10 1.158203125 0.019466230897839054\n",
            "11 1.1572265625 0.005564689502373099\n",
            "12 1.15673828125 0.0013825210451265946\n",
            "13 1.156982421875 0.0020907873792292975\n",
            "14 1.1568603515625 0.00035405894194262544\n",
            "15 1.15679931640625 0.0005142496094645566\n",
            "16 1.156829833984375 8.009997302949046e-05\n",
            "17 1.1568450927734375 0.00013697832466341708\n",
            "18 1.1568374633789062 2.8438885864900953e-05\n",
            "19 1.1568336486816406 2.5830616070976475e-05\n",
            "20 1.1568355560302734 1.304116775457942e-06\n",
            "21 1.156834602355957 1.2263254177469207e-05\n",
            "22 1.1568350791931152 5.479569834321296e-06\n",
            "23 1.1568353176116943 2.087726812760593e-06\n",
            "24 1.1568354368209839 3.9180508970559913e-07\n"
          ]
        }
      ]
    },
    {
      "cell_type": "code",
      "source": [],
      "metadata": {
        "id": "pa55g4evs5VF"
      },
      "execution_count": null,
      "outputs": []
    },
    {
      "cell_type": "markdown",
      "source": [
        "## Exercise 02.3 (series expansion)\n",
        "\n",
        "For $|x| < 1$ the series:\n",
        "\n",
        "$$\n",
        "(1 + x)^{-1/2} = \\sum_{n = 0}^{\\infty} \\frac{(-1)^n (2n)!}{4^n (n!)^2} x^n\n",
        "$$\n",
        "\n",
        "converges.\n",
        "\n",
        "1. Using a `for` statement, approximate $1/\\sqrt{0.16}$ using 30 terms in the series expansion and report the absolute error."
      ],
      "metadata": {
        "id": "P8ZFd3wZtCol"
      }
    },
    {
      "cell_type": "code",
      "source": [
        "# Import the math module to access math.factorial\n",
        "import math\n",
        "\n",
        "# Value of x such that (1 + x) = 0.16\n",
        "x = -0.84\n",
        "\n",
        "# Number of terms to use in the approximation\n",
        "num_terms = 30\n",
        "\n",
        "# Initialise approximation of the function\n",
        "approx_f = 0.0\n",
        "\n",
        "# Calculate the series expansion\n",
        "for n in range(num_terms):\n",
        "    term = ((-1)**n * math.factorial(2 * n)) / (4**n * (math.factorial(n)**2)) * (x**n)\n",
        "    approx_f += term\n",
        "\n",
        "# Calculate the exact value\n",
        "exact_f = 1 / math.sqrt(0.16)\n",
        "\n",
        "# Calculate the absolute error\n",
        "absolute_error = abs(exact_f - approx_f)\n",
        "\n",
        "print(f\"Approximation of 1/sqrt(0.16) using {num_terms} terms: {approx_f}\")\n",
        "print(f\"Exact value of 1/sqrt(0.16): {exact_f}\")\n",
        "print(f\"The absolute error is: {absolute_error}\")"
      ],
      "metadata": {
        "colab": {
          "base_uri": "https://localhost:8080/"
        },
        "id": "A6efeKUBJSDD",
        "outputId": "26952b89-dc52-430d-f0d5-22a4b864cf86"
      },
      "execution_count": null,
      "outputs": [
        {
          "output_type": "stream",
          "name": "stdout",
          "text": [
            "Approximation of 1/sqrt(0.16) using 30 terms: 2.4968078104263016\n",
            "Exact value of 1/sqrt(0.16): 2.5\n",
            "The absolute error is: 0.0031921895736983785\n"
          ]
        }
      ]
    },
    {
      "cell_type": "markdown",
      "source": [
        "#### (2) Using a `while` loop"
      ],
      "metadata": {
        "id": "WUad6cXRMaRG"
      }
    },
    {
      "cell_type": "code",
      "source": [
        "# Import the math module to access math.factorial\n",
        "import math\n",
        "\n",
        "# Value of x (such that (1 - x) = 0.16)\n",
        "x = -0.84\n",
        "\n",
        "# Tolerance and initial error (this just needs to be larger than tol)\n",
        "tol = 1.0e-5\n",
        "error = tol + 1.0\n",
        "\n",
        "# Initialise approximation of function\n",
        "approx_f = 0.0\n",
        "\n",
        "# Initialise counter\n",
        "n = 0\n",
        "\n",
        "# Calculate the exact value for comparison\n",
        "exact_value = 1 / math.sqrt(0.16)\n",
        "\n",
        "# Loop until error satisfies tolerance, with a check to avoid\n",
        "# an infinite loop\n",
        "while error > tol and n < 1000:\n",
        "    # Calculate the next term in the series\n",
        "    term = ((-1)**n * math.factorial(2 * n)) / (4**n * (math.factorial(n)**2)) * (x**n)\n",
        "    # Add the term to the approximation\n",
        "    approx_f += term\n",
        "    # Calculate the error\n",
        "    error = abs(exact_value - approx_f)\n",
        "    # Increment counter\n",
        "    n += 1\n",
        "\n",
        "print(\"\\nThe error is:\", error)\n",
        "print(\"Number of terms in series:\", n)\n"
      ],
      "metadata": {
        "colab": {
          "base_uri": "https://localhost:8080/"
        },
        "id": "ric-yCwyMa2O",
        "outputId": "35cd0527-ae8d-447d-c843-c3445c687685"
      },
      "execution_count": null,
      "outputs": [
        {
          "output_type": "stream",
          "name": "stdout",
          "text": [
            "\n",
            "The error is: 8.689878570500298e-06\n",
            "Number of terms in series: 62\n"
          ]
        }
      ]
    },
    {
      "cell_type": "code",
      "source": [],
      "metadata": {
        "id": "k3bH0M_6J5IG"
      },
      "execution_count": null,
      "outputs": []
    }
  ]
}