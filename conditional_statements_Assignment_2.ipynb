{
  "nbformat": 4,
  "nbformat_minor": 0,
  "metadata": {
    "colab": {
      "provenance": [],
      "authorship_tag": "ABX9TyNbIPGd+LNV19vuYxBZk9tO",
      "include_colab_link": true
    },
    "kernelspec": {
      "name": "python3",
      "display_name": "Python 3"
    },
    "language_info": {
      "name": "python"
    }
  },
  "cells": [
    {
      "cell_type": "markdown",
      "metadata": {
        "id": "view-in-github",
        "colab_type": "text"
      },
      "source": [
        "<a href=\"https://colab.research.google.com/github/imanii-edel/python-Assignment1/blob/main/conditional_statements_Assignment_2.ipynb\" target=\"_parent\"><img src=\"https://colab.research.google.com/assets/colab-badge.svg\" alt=\"Open In Colab\"/></a>"
      ]
    },
    {
      "cell_type": "markdown",
      "source": [
        "# Question 1\n",
        "## Pseudocode for Grade Calculation\n",
        "\n",
        "### Function: `get_grade(score)`\n",
        "1. DISPLAY \"Enter your score: \"\n",
        "2. READ student_score AS a floating-point number\n",
        "3. grade = CALL get_grade(student_score)\n",
        "4. DISPLAY \"Your grade is \" + grad"
      ],
      "metadata": {
        "id": "prdu0_2lIOxu"
      }
    },
    {
      "cell_type": "code",
      "source": [
        "def get_grade(score):\n",
        "    if score > 89:\n",
        "        grade = \"A\"\n",
        "    elif score > 79:\n",
        "        grade = \"B\"\n",
        "    elif score > 69:\n",
        "        grade = \"C\"\n",
        "    elif score > 59:\n",
        "        grade = \"D\"\n",
        "    else:\n",
        "        grade = \"F\"\n",
        "    return grade\n",
        "\n",
        "student_score = float(input(\"Enter your score: \"))\n",
        "grade = get_grade(student_score)\n",
        "print(\"Your grade is,\", grade)"
      ],
      "metadata": {
        "colab": {
          "base_uri": "https://localhost:8080/"
        },
        "id": "qVIo3HzDIcjM",
        "outputId": "d922f0d5-264d-41ec-acc1-27ba33bae4e2"
      },
      "execution_count": 1,
      "outputs": [
        {
          "output_type": "stream",
          "name": "stdout",
          "text": [
            "Enter your score: 78\n",
            "Your grade is, C\n"
          ]
        }
      ]
    },
    {
      "cell_type": "markdown",
      "source": [
        "# Question 2\n",
        "## Pseudocode for Project Cost Calculation\n",
        "\n",
        "### Function: `cost_of_project(engraving, solid_gold)`\n",
        "1. project_one = CALL cost_of_project(\"Charlie+Denver\", TRUE)\n",
        "2. DISPLAY \"The cost of the first project is $\" + project_one + \".\"\n",
        "3. project_two = CALL cost_of_project(\"08/10/2000\", FALSE)\n",
        "4. DISPLAY \"The cost of the second project is $\" + project_two + \".\""
      ],
      "metadata": {
        "id": "lJlf6ryMIzim"
      }
    },
    {
      "cell_type": "code",
      "source": [
        "def cost_of_project(engraving, solid_gold):\n",
        "    if solid_gold == True:\n",
        "        cost = 100 + (len(engraving) * 10)\n",
        "    else:\n",
        "        cost = 50 + (len(engraving) * 7)\n",
        "    return cost\n",
        "\n",
        "project_one = cost_of_project(\"Charlie+Denver\", True)\n",
        "print(\"The cost of the first project is $\", project_one, \".\")\n",
        "project_two = cost_of_project(\"08/10/2000\", False)\n",
        "print(\"The cost of the second project is $\", project_two, \".\")"
      ],
      "metadata": {
        "colab": {
          "base_uri": "https://localhost:8080/"
        },
        "id": "JlOB6UVqJ4Cb",
        "outputId": "2df2e53d-5a38-4b3a-91c8-568abc9f8e6c"
      },
      "execution_count": 2,
      "outputs": [
        {
          "output_type": "stream",
          "name": "stdout",
          "text": [
            "The cost of the first project is $ 240 .\n",
            "The cost of the second project is $ 120 .\n"
          ]
        }
      ]
    },
    {
      "cell_type": "markdown",
      "source": [
        "# Question 3\n",
        "## Pseudocode for Water Bill Calculation\n",
        "\n",
        "### Function: `get_water_bill(num_gallons)`\n",
        "1. DISPLAY \"Enter the number of gallons used: \"\n",
        "2. READ customer AS an integer\n",
        "3. customer_bill = CALL get_water_bill(customer)\n",
        "4. customer_bill = ROUND customer_bill to 4 decimal places\n",
        "5. DISPLAY \"The customer's bill is $\" + customer_bill + \".\""
      ],
      "metadata": {
        "id": "-3nQt6-_J798"
      }
    },
    {
      "cell_type": "code",
      "source": [
        "def get_water_bill(num_gallons):\n",
        "    if num_gallons <= 8000:\n",
        "        bill = (num_gallons/1000) * 5\n",
        "    elif num_gallons <= 22000:\n",
        "        bill = (num_gallons/1000) * 6\n",
        "    elif num_gallons <= 30000:\n",
        "        bill = (num_gallons/1000) * 7\n",
        "    else:\n",
        "        bill = (num_gallons/1000) * 10\n",
        "    return bill\n",
        "\n",
        "customer = int(input(\"Enter the number of gallons used: \"))\n",
        "customer_bill = get_water_bill(customer)\n",
        "customer_bill = round(customer_bill, 4)\n",
        "print(\"The customer's bill is $\", customer_bill, \".\")"
      ],
      "metadata": {
        "colab": {
          "base_uri": "https://localhost:8080/"
        },
        "id": "ZcHHmS-NKj_o",
        "outputId": "7a0b91f9-b672-42a3-a751-49f2217c129f"
      },
      "execution_count": 3,
      "outputs": [
        {
          "output_type": "stream",
          "name": "stdout",
          "text": [
            "Enter the number of gallons used: 78\n",
            "The customer's bill is $ 0.39 .\n"
          ]
        }
      ]
    },
    {
      "cell_type": "markdown",
      "source": [
        "# Question 4\n",
        "## Pseudocode for Phone Bill Calculation\n",
        "\n",
        "### Function: `get_phone_bill(gb)`\n",
        "1. DISPLAY \"Enter the number of gb used: \"\n",
        "2. READ customer AS a floating-point number\n",
        "3. customer_bill = CALL get_phone_bill(customer)\n",
        "4. customer_bill = ROUND customer_bill to 2 decimal places\n",
        "5. DISPLAY \"The customer's bill is $\" + customer_bill + \".\""
      ],
      "metadata": {
        "id": "S2d69WTzLGy5"
      }
    },
    {
      "cell_type": "code",
      "source": [
        "def get_phone_bill(gb):\n",
        "    if gb <= 15:\n",
        "        bill = 100\n",
        "    else:\n",
        "        bill = 100 + (gb - 15) * 100\n",
        "    return bill\n",
        "\n",
        "customer = float(input(\"Enter the number of gb used: \"))\n",
        "customer_bill = get_phone_bill(customer)\n",
        "customer_bill = round(customer_bill, 2)\n",
        "print(\"The customer's bill is $\", customer_bill, \".\")"
      ],
      "metadata": {
        "id": "xyLN3EHxLHSz"
      },
      "execution_count": null,
      "outputs": []
    }
  ]
}