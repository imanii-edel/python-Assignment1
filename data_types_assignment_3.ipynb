{
  "nbformat": 4,
  "nbformat_minor": 0,
  "metadata": {
    "colab": {
      "provenance": [],
      "authorship_tag": "ABX9TyOUgwXZ1RRg7F1is/AbfoJK",
      "include_colab_link": true
    },
    "kernelspec": {
      "name": "python3",
      "display_name": "Python 3"
    },
    "language_info": {
      "name": "python"
    }
  },
  "cells": [
    {
      "cell_type": "markdown",
      "metadata": {
        "id": "view-in-github",
        "colab_type": "text"
      },
      "source": [
        "<a href=\"https://colab.research.google.com/github/imanii-edel/python-Assignment1/blob/main/data_types_assignment_3.ipynb\" target=\"_parent\"><img src=\"https://colab.research.google.com/assets/colab-badge.svg\" alt=\"Open In Colab\"/></a>"
      ]
    },
    {
      "cell_type": "markdown",
      "source": [
        "# Question 1\n",
        "-    Checking data types"
      ],
      "metadata": {
        "id": "VjJ1p8fpMGsO"
      }
    },
    {
      "cell_type": "code",
      "source": [
        "# Define a float\n",
        "y = 1.\n",
        "print(y)\n",
        "print(type(y))\n",
        "\n",
        "# Convert float to integer with the int function\n",
        "z = int(y)\n",
        "print(z)\n",
        "print(type(z))"
      ],
      "metadata": {
        "colab": {
          "base_uri": "https://localhost:8080/"
        },
        "id": "NPur8GwYMRGo",
        "outputId": "4963c30d-1e41-4dd5-9dbc-69323b25bddc"
      },
      "execution_count": 4,
      "outputs": [
        {
          "output_type": "stream",
          "name": "stdout",
          "text": [
            "1.0\n",
            "<class 'float'>\n",
            "1\n",
            "<class 'int'>\n"
          ]
        }
      ]
    },
    {
      "cell_type": "markdown",
      "source": [
        "# Question 2\n",
        "\n",
        "1. Negative floats are always rounded UP to the closest integer (for instance, both -1.1 and -1.9 are rounded up to -1).\n",
        "2. Positive floats are always rounded DOWN to the closest integer (for instance, 2.1 and 2.9 are rounded down to 2).\n"
      ],
      "metadata": {
        "id": "GThgK3d6MWzb"
      }
    },
    {
      "cell_type": "code",
      "source": [
        "print(int(1.2321))\n",
        "print(int(1.747))\n",
        "print(int(-3.94535))\n",
        "print(int(-2.19774))"
      ],
      "metadata": {
        "colab": {
          "base_uri": "https://localhost:8080/"
        },
        "id": "CI1aQStGMfyU",
        "outputId": "3680edc5-7156-47a9-93ab-fd4855a2ab82"
      },
      "execution_count": 2,
      "outputs": [
        {
          "output_type": "stream",
          "name": "stdout",
          "text": [
            "1\n",
            "1\n",
            "-3\n",
            "-2\n"
          ]
        }
      ]
    },
    {
      "cell_type": "markdown",
      "source": [
        "# Question 3\n",
        "- When you multiple an integer or float by a boolean with value True, it just returns that same integer or float (and is equivalent to multiplying by 1).\n",
        "- If you multiply an integer or float by a boolean with value False, it always returns 0. This is true for both positive and negative numbers.\n",
        "- If you multiply a string by a boolean with value True, it just returns that same string.\n",
        "- And if you multiply a string by a boolean with value False, it returns an empty string (or a string with length zero).\n"
      ],
      "metadata": {
        "id": "EiHMld_RMx6n"
      }
    },
    {
      "cell_type": "code",
      "source": [
        "print(3 * True)\n",
        "print(-3.1 * True)\n",
        "print(type(\"abc\" * False))\n",
        "print(len(\"abc\" * False))"
      ],
      "metadata": {
        "colab": {
          "base_uri": "https://localhost:8080/"
        },
        "id": "S6qjn5-xNGBH",
        "outputId": "93c403e5-18da-416f-9424-363800e271ae"
      },
      "execution_count": 3,
      "outputs": [
        {
          "output_type": "stream",
          "name": "stdout",
          "text": [
            "3\n",
            "-3.1\n",
            "<class 'str'>\n",
            "0\n"
          ]
        }
      ]
    },
    {
      "cell_type": "markdown",
      "source": [
        "# Question 4\n",
        "- When you add booleans, adding False is equivalent to adding 0, and adding True is equivalent to adding 1.\n"
      ],
      "metadata": {
        "id": "_HdOAnMONPie"
      }
    },
    {
      "cell_type": "code",
      "source": [
        "print(False + False)\n",
        "print(True + False)\n",
        "print(False + True)\n",
        "print(True + True)\n",
        "print(False + True + True + True)"
      ],
      "metadata": {
        "colab": {
          "base_uri": "https://localhost:8080/"
        },
        "id": "TVqEUxECNbVJ",
        "outputId": "ccef9bed-3307-4677-da82-c94d65a77079"
      },
      "execution_count": 5,
      "outputs": [
        {
          "output_type": "stream",
          "name": "stdout",
          "text": [
            "0\n",
            "1\n",
            "1\n",
            "2\n",
            "3\n"
          ]
        }
      ]
    },
    {
      "cell_type": "markdown",
      "source": [
        "# Question 5\n",
        "## Pseudocode for Project Cost Calculation (Concise Version)\n",
        "\n",
        "### Function: `cost_of_project(engraving, solid_gold)`\n",
        "1. project_one = CALL cost_of_project(\"Charlie+Denver\", TRUE)\n",
        "2. DISPLAY \"The cost of the first project is $\" + project_one + \".\"\n",
        "3. project_two = CALL cost_of_project(\"08/10/2000\", FALSE)\n",
        "4. DISPLAY \"The cost of the second project is $\" + project_two + \"."
      ],
      "metadata": {
        "id": "CZBcjPDpOFTd"
      }
    },
    {
      "cell_type": "code",
      "source": [
        "def cost_of_project(engraving, solid_gold):\n",
        "    cost = solid_gold * (100 + 10 * len(engraving)) + (not solid_gold) * (50 + 7 * len(engraving))\n",
        "    return cost\n",
        "\n",
        "project_one = cost_of_project(\"Charlie+Denver\", True)\n",
        "print(\"The cost of the first project is $\", project_one, \".\")\n",
        "project_two = cost_of_project(\"08/10/2000\", False)\n",
        "print(\"The cost of the second project is $\", project_two, \".\")"
      ],
      "metadata": {
        "colab": {
          "base_uri": "https://localhost:8080/"
        },
        "id": "SbRUrv6sOXgN",
        "outputId": "bc359336-e688-4871-c426-530f57d5ded3"
      },
      "execution_count": 6,
      "outputs": [
        {
          "output_type": "stream",
          "name": "stdout",
          "text": [
            "The cost of the first project is $ 240 .\n",
            "The cost of the second project is $ 120 .\n"
          ]
        }
      ]
    }
  ]
}