{
  "nbformat": 4,
  "nbformat_minor": 0,
  "metadata": {
    "colab": {
      "provenance": [],
      "authorship_tag": "ABX9TyOMkbuK4p8/GVBTEuT7dsZz",
      "include_colab_link": true
    },
    "kernelspec": {
      "name": "python3",
      "display_name": "Python 3"
    },
    "language_info": {
      "name": "python"
    }
  },
  "cells": [
    {
      "cell_type": "markdown",
      "metadata": {
        "id": "view-in-github",
        "colab_type": "text"
      },
      "source": [
        "<a href=\"https://colab.research.google.com/github/imanii-edel/python-Assignment1/blob/main/Functions_Assignment_4.ipynb\" target=\"_parent\"><img src=\"https://colab.research.google.com/assets/colab-badge.svg\" alt=\"Open In Colab\"/></a>"
      ]
    },
    {
      "cell_type": "markdown",
      "source": [
        "# Question 1\n",
        "## Pseudocode for Expected House Cost Calculation\n",
        "\n",
        "### Function: `get_expected_cost(beds, baths)`\n",
        "1. price = CALL get_expected_cost(1, 1)\n",
        "2. DISPLAY \"The price of this house is\" + price + \".\""
      ],
      "metadata": {
        "id": "FifrLOoVPj1r"
      }
    },
    {
      "cell_type": "code",
      "execution_count": null,
      "metadata": {
        "id": "nz4-LtMMPcZ9"
      },
      "outputs": [],
      "source": [
        "def get_expected_cost(beds, baths):\n",
        "    value = 80000 + (beds * 30000) + (baths * 10000)\n",
        "    return value\n",
        "\n",
        "price = get_expected_cost(1, 1)\n",
        "print(\"The price of this house is\", price, \".\")"
      ]
    },
    {
      "cell_type": "markdown",
      "source": [
        "# Question 2\n",
        "## Pseudocode for Expected House Cost Calculation (Multiple Options)\n",
        "\n",
        "### Function: `get_expected_cost(beds, baths)`\n",
        "1. option_one = CALL get_expected_cost(2, 3)\n",
        "\n",
        "2. option_two = CALL get_expected_cost(3, 2)\n",
        "\n",
        "3. option_three = CALL get_expected_cost(3, 3)\n",
        "\n",
        "4. option_four = CALL get_expected_cost(3, 4)\n",
        "\n",
        "5. DISPLAY option_one\n",
        "\n",
        "6. DISPLAY option_two\n",
        "\n",
        "7. DISPLAY option_three\n",
        "\n",
        "8. DISPLAY option_four"
      ],
      "metadata": {
        "id": "KcDMTalyQEfx"
      }
    },
    {
      "cell_type": "code",
      "source": [
        "def get_expected_cost(beds, baths):\n",
        "    value = 80000 + (beds * 30000) + (baths * 10000)\n",
        "    return value\n",
        "\n",
        "option_one = get_expected_cost(2, 3)\n",
        "option_two = get_expected_cost(3, 2)\n",
        "option_three = get_expected_cost(3, 3)\n",
        "option_four = get_expected_cost(3, 4)\n",
        "\n",
        "print(option_one)\n",
        "print(option_two)\n",
        "print(option_three)\n",
        "print(option_four)"
      ],
      "metadata": {
        "colab": {
          "base_uri": "https://localhost:8080/"
        },
        "id": "XSokwmayQl99",
        "outputId": "93d686ee-b18a-45fd-8681-26aadb339de0"
      },
      "execution_count": 1,
      "outputs": [
        {
          "output_type": "stream",
          "name": "stdout",
          "text": [
            "170000\n",
            "190000\n",
            "200000\n",
            "210000\n"
          ]
        }
      ]
    },
    {
      "cell_type": "markdown",
      "source": [
        "# Question 3\n",
        "## Pseudocode for Paint Cost Calculation\n",
        "\n",
        "### Function: `get_cost(sqft_walls, sqft_ceiling, sqft_per_gallon, cost_per_gallon)`\n",
        "1. FUNCTION get_cost(sqft_walls, sqft_ceiling, sqft_per_gallon, cost_per_gallon):\n",
        "2. cost = ((sqft_walls + sqft_ceiling) / sqft_per_gallon) * cost_per_gallon\n",
        "RETURN cost 1\n",
        "3. END FUNCTION"
      ],
      "metadata": {
        "id": "_gn2ullZQrMi"
      }
    },
    {
      "cell_type": "code",
      "source": [
        "def get_cost(sqft_walls, sqft_ceiling, sqft_per_gallon, cost_per_gallon):\n",
        "    cost = ((sqft_walls + sqft_ceiling) / sqft_per_gallon) * cost_per_gallon\n",
        "    return cost"
      ],
      "metadata": {
        "id": "BMD9kslISu-N"
      },
      "execution_count": 2,
      "outputs": []
    },
    {
      "cell_type": "markdown",
      "source": [
        "# Question 4\n",
        "## Pseudocode for Paint Project Cost Calculation\n",
        "\n",
        "### Function: `get_cost(sqft_walls, sqft_ceiling, sqft_per_gallon, cost_per_gallon)`\n",
        "1. project_cost = CALL get_cost(432, 144, 400, 15)\n",
        "2. DISPLAY \"The project cost is $\" + project_cost + \".\""
      ],
      "metadata": {
        "id": "39LqxBnQTPuN"
      }
    },
    {
      "cell_type": "code",
      "source": [
        "def get_cost(sqft_walls, sqft_ceiling, sqft_per_gallon, cost_per_gallon):\n",
        "    cost = ((sqft_walls + sqft_ceiling) / sqft_per_gallon) * cost_per_gallon\n",
        "    return cost\n",
        "\n",
        "project_cost = get_cost(432, 144, 400, 15)\n",
        "print(\"The project cost is $\", project_cost, \".\")"
      ],
      "metadata": {
        "colab": {
          "base_uri": "https://localhost:8080/"
        },
        "id": "RqATci-RTbj0",
        "outputId": "ba71858d-a9da-44c7-e848-83caf18ab874"
      },
      "execution_count": 3,
      "outputs": [
        {
          "output_type": "stream",
          "name": "stdout",
          "text": [
            "The project cost is $ 21.599999999999998 .\n"
          ]
        }
      ]
    },
    {
      "cell_type": "markdown",
      "source": [
        "# Question 5\n",
        "## Pseudocode for Actual Paint Cost Calculation\n",
        "\n",
        "### Function: `get_actual_cost(sqft_walls, sqft_ceiling, sqft_per_gallon, cost_per_gallon)`\n",
        "1. house_one = CALL get_actual_cost(432, 144, 400, 15)\n",
        "2. house_two = CALL get_actual_cost(594, 288, 400, 15)\n",
        "3. DISPLAY \"The total cost of painting house one is $\" + house_one + \".\"\n",
        "4. DISPLAY \"The total cost of painting house two is $\" + house_two + \".\""
      ],
      "metadata": {
        "id": "GcpGIA-4Ts4N"
      }
    },
    {
      "cell_type": "code",
      "source": [
        "import math\n",
        "\n",
        "def get_actual_cost(sqft_walls, sqft_ceiling, sqft_per_gallon, cost_per_gallon):\n",
        "    actual_gallons = math.ceil(((sqft_walls + sqft_ceiling) / sqft_per_gallon))\n",
        "    cost = actual_gallons * cost_per_gallon\n",
        "    return cost\n",
        "\n",
        "house_one = get_actual_cost(432, 144, 400, 15)\n",
        "house_two = get_actual_cost(594, 288, 400, 15)\n",
        "print(\"The total cost of painting house one is $\", house_one, \".\")\n",
        "print(\"The total cost of painting house two is $\", house_two, \".\")"
      ],
      "metadata": {
        "colab": {
          "base_uri": "https://localhost:8080/"
        },
        "id": "icBRQDXIUo5d",
        "outputId": "9e2f6e59-f33a-40cf-88e1-343bd775fc28"
      },
      "execution_count": 4,
      "outputs": [
        {
          "output_type": "stream",
          "name": "stdout",
          "text": [
            "The total cost of painting house one is $ 30 .\n",
            "The total cost of painting house two is $ 45 .\n"
          ]
        }
      ]
    }
  ]
}