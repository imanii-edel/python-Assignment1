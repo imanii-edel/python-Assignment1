{
  "nbformat": 4,
  "nbformat_minor": 0,
  "metadata": {
    "colab": {
      "provenance": [],
      "authorship_tag": "ABX9TyPK1ACLsXsgGbQU2vy/mPkB",
      "include_colab_link": true
    },
    "kernelspec": {
      "name": "python3",
      "display_name": "Python 3"
    },
    "language_info": {
      "name": "python"
    }
  },
  "cells": [
    {
      "cell_type": "markdown",
      "metadata": {
        "id": "view-in-github",
        "colab_type": "text"
      },
      "source": [
        "<a href=\"https://colab.research.google.com/github/imanii-edel/python-Assignment1/blob/main/PythonAssignment1.ipynb\" target=\"_parent\"><img src=\"https://colab.research.google.com/assets/colab-badge.svg\" alt=\"Open In Colab\"/></a>"
      ]
    },
    {
      "cell_type": "markdown",
      "source": [
        "QUESTION 1 Printing a hello wolrd."
      ],
      "metadata": {
        "id": "UFpzQcZm-R-T"
      }
    },
    {
      "cell_type": "code",
      "source": [
        "print(\"Hello, world!\")"
      ],
      "metadata": {
        "colab": {
          "base_uri": "https://localhost:8080/"
        },
        "id": "0_8rcBQD-ahQ",
        "outputId": "3fdbc0c4-b3cc-4fdd-9e81-3b76bc5628c8"
      },
      "execution_count": 1,
      "outputs": [
        {
          "output_type": "stream",
          "name": "stdout",
          "text": [
            "Hello, world!\n"
          ]
        }
      ]
    },
    {
      "cell_type": "markdown",
      "source": [
        "QUESTION 2 printing a message"
      ],
      "metadata": {
        "id": "_f4cE5y0-leX"
      }
    },
    {
      "cell_type": "code",
      "source": [
        "print(\"Hello, I am a coding in python.\")"
      ],
      "metadata": {
        "colab": {
          "base_uri": "https://localhost:8080/"
        },
        "id": "_EeKkUKC-sJa",
        "outputId": "c9dd66f0-876e-498a-af44-8b08be7ea246"
      },
      "execution_count": 2,
      "outputs": [
        {
          "output_type": "stream",
          "name": "stdout",
          "text": [
            "Hello, I am a coding in python.\n"
          ]
        }
      ]
    },
    {
      "cell_type": "markdown",
      "source": [
        "QUESTION 4"
      ],
      "metadata": {
        "id": "9b-1Gk0U-589"
      }
    },
    {
      "cell_type": "code",
      "source": [
        "hours_per_day = 24\n",
        "mins_per_hour = 60\n",
        "births_per_min = 250\n",
        "births_per_day = births_per_min * (hours_per_day * mins_per_hour)\n",
        "print(\"The average births per day is, \" , births_per_day)"
      ],
      "metadata": {
        "colab": {
          "base_uri": "https://localhost:8080/"
        },
        "id": "dGN2fzXT_HiB",
        "outputId": "1477443a-4bfc-4a3b-85ee-77c02b72d945"
      },
      "execution_count": 3,
      "outputs": [
        {
          "output_type": "stream",
          "name": "stdout",
          "text": [
            "The average births per day is,  360000\n"
          ]
        }
      ]
    },
    {
      "cell_type": "markdown",
      "source": [
        "QUESTION 5 Fractions of people tha survived the titanic\n",
        "declare variables for total"
      ],
      "metadata": {
        "id": "4fwNl_-A_gaw"
      }
    },
    {
      "cell_type": "code",
      "source": [
        "total = 891\n",
        "survived = 342\n",
        "minors = 113\n",
        "survived_fraction = survived / total\n",
        "minors_fraction = minors / total\n",
        "print(\"The fraction of people survived is, \",survived_fraction)\n",
        "print(\"The fraction of minors survived is, \",minors_fraction)"
      ],
      "metadata": {
        "colab": {
          "base_uri": "https://localhost:8080/"
        },
        "id": "8iHh3X7G_l4J",
        "outputId": "449d9ecb-b75f-4d6f-8417-952add957c12"
      },
      "execution_count": 6,
      "outputs": [
        {
          "output_type": "stream",
          "name": "stdout",
          "text": [
            "The fraction of people survived is,  0.3838383838383838\n",
            "The fraction of minors survived is,  0.12682379349046016\n"
          ]
        }
      ]
    }
  ]
}